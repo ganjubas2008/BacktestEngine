{
 "cells": [
  {
   "cell_type": "code",
   "execution_count": 1,
   "metadata": {},
   "outputs": [],
   "source": [
    "import pandas as pd"
   ]
  },
  {
   "cell_type": "code",
   "execution_count": 2,
   "metadata": {},
   "outputs": [
    {
     "data": {
      "text/html": [
       "<div>\n",
       "<style scoped>\n",
       "    .dataframe tbody tr th:only-of-type {\n",
       "        vertical-align: middle;\n",
       "    }\n",
       "\n",
       "    .dataframe tbody tr th {\n",
       "        vertical-align: top;\n",
       "    }\n",
       "\n",
       "    .dataframe thead th {\n",
       "        text-align: right;\n",
       "    }\n",
       "</style>\n",
       "<table border=\"1\" class=\"dataframe\">\n",
       "  <thead>\n",
       "    <tr style=\"text-align: right;\">\n",
       "      <th></th>\n",
       "      <th>local_timestamp</th>\n",
       "      <th>side</th>\n",
       "      <th>price</th>\n",
       "      <th>amount</th>\n",
       "    </tr>\n",
       "  </thead>\n",
       "  <tbody>\n",
       "    <tr>\n",
       "      <th>0</th>\n",
       "      <td>1723248002453757</td>\n",
       "      <td>buy</td>\n",
       "      <td>0.008519</td>\n",
       "      <td>748</td>\n",
       "    </tr>\n",
       "    <tr>\n",
       "      <th>1</th>\n",
       "      <td>1723248002466531</td>\n",
       "      <td>sell</td>\n",
       "      <td>0.008519</td>\n",
       "      <td>1944</td>\n",
       "    </tr>\n",
       "    <tr>\n",
       "      <th>2</th>\n",
       "      <td>1723248002466536</td>\n",
       "      <td>sell</td>\n",
       "      <td>0.008519</td>\n",
       "      <td>56</td>\n",
       "    </tr>\n",
       "    <tr>\n",
       "      <th>3</th>\n",
       "      <td>1723248002478602</td>\n",
       "      <td>buy</td>\n",
       "      <td>0.008519</td>\n",
       "      <td>28998</td>\n",
       "    </tr>\n",
       "    <tr>\n",
       "      <th>4</th>\n",
       "      <td>1723248002478610</td>\n",
       "      <td>buy</td>\n",
       "      <td>0.008519</td>\n",
       "      <td>7202</td>\n",
       "    </tr>\n",
       "  </tbody>\n",
       "</table>\n",
       "</div>"
      ],
      "text/plain": [
       "    local_timestamp  side     price  amount\n",
       "0  1723248002453757   buy  0.008519     748\n",
       "1  1723248002466531  sell  0.008519    1944\n",
       "2  1723248002466536  sell  0.008519      56\n",
       "3  1723248002478602   buy  0.008519   28998\n",
       "4  1723248002478610   buy  0.008519    7202"
      ]
     },
     "execution_count": 2,
     "metadata": {},
     "output_type": "execute_result"
    }
   ],
   "source": [
    "trades = pd.read_csv('md_sim/trades_1000pepeusdt.csv')\n",
    "trades.head()"
   ]
  },
  {
   "cell_type": "code",
   "execution_count": 3,
   "metadata": {},
   "outputs": [],
   "source": [
    "trades.sort_values(by='local_timestamp', inplace=True)"
   ]
  },
  {
   "cell_type": "code",
   "execution_count": 4,
   "metadata": {},
   "outputs": [],
   "source": [
    "import matplotlib.pyplot as plt\n",
    "import matplotlib.dates as mdates\n",
    "import numpy as np\n",
    "import pandas as pd\n",
    "\n",
    "class Candle:\n",
    "    def __init__(self, time_start, time_end, body_open, body_close, shadow_max, shadow_min, \n",
    "                 buy_volume, sell_volume, buy_mean_price, sell_mean_price):\n",
    "        self.time_start = time_start\n",
    "        self.time_end = time_end\n",
    "        self.body_open = body_open\n",
    "        self.body_close = body_close\n",
    "        self.shadow_max = shadow_max\n",
    "        self.shadow_min = shadow_min\n",
    "        self.buy_volume = buy_volume\n",
    "        self.sell_volume = sell_volume\n",
    "        self.buy_mean_price = buy_mean_price\n",
    "        self.sell_mean_price = sell_mean_price\n",
    "\n",
    "    def __str__(self):\n",
    "        return (f\"Candle({self.time_start} - {self.time_end}): \"\n",
    "                f\"Open={self.body_open}, Close={self.body_close}, \"\n",
    "                f\"High={self.shadow_max}, Low={self.shadow_min}, \"\n",
    "                f\"Buy Volume={self.buy_volume}, Sell Volume={self.sell_volume}, \"\n",
    "                f\"Avg Buy Price={self.buy_mean_price}, Avg Sell Price={self.sell_mean_price}\")\n",
    "\n",
    "\n",
    "def create_candles_df(trades, candle_duration_ns):\n",
    "    # Создаем новый столбец для группировки сделок по временным интервалам\n",
    "    trades['candle_interval'] = (trades['local_timestamp'] // candle_duration_ns) * candle_duration_ns\n",
    "    \n",
    "    # Группируем сделки по временным интервалам и вычисляем основные элементы свечи\n",
    "    grouped = trades.groupby('candle_interval').agg(\n",
    "        time_start=('local_timestamp', 'min'),  # Начало свечи\n",
    "        time_end=('local_timestamp', 'max'),    # Конец свечи\n",
    "        body_open=('price', 'first'),  # Цена открытия свечи\n",
    "        body_close=('price', 'last'),  # Цена закрытия свечи\n",
    "        shadow_max=('price', 'max'),   # Максимальная цена (верхняя тень)\n",
    "        shadow_min=('price', 'min'),   # Минимальная цена (нижняя тень)\n",
    "        \n",
    "        # Средний объём сделок (buy и sell)\n",
    "        buy_volume=('amount', lambda x: x[trades.loc[x.index, 'side'] == 'buy'].mean()),  # Средний объем покупок\n",
    "        sell_volume=('amount', lambda x: x[trades.loc[x.index, 'side'] == 'sell'].mean()),  # Средний объем продаж\n",
    "        \n",
    "        # Средняя цена для покупок и продаж\n",
    "        buy_mean_price=('price', lambda x: x[trades.loc[x.index, 'side'] == 'buy'].mean()),  # Средняя цена покупок\n",
    "        sell_mean_price=('price', lambda x: x[trades.loc[x.index, 'side'] == 'sell'].mean())  # Средняя цена продаж\n",
    "    ).reset_index()\n",
    "    \n",
    "    return grouped\n",
    "\n",
    "\n",
    "def create_candles_from_df(candles_df):\n",
    "    # List to store the Candle objects\n",
    "    candles = []\n",
    "    \n",
    "    # Iterate over each row in the DataFrame to create Candle objects\n",
    "    for _, row in candles_df.iterrows():\n",
    "        candle = Candle(\n",
    "            time_start=row['time_start'],\n",
    "            time_end=row['time_end'],\n",
    "            body_open=row['body_open'],\n",
    "            body_close=row['body_close'],\n",
    "            shadow_max=row['shadow_max'],\n",
    "            shadow_min=row['shadow_min'],\n",
    "            buy_volume=row['buy_volume'],\n",
    "            sell_volume=row['sell_volume'],\n",
    "            buy_mean_price=row['buy_mean_price'],\n",
    "            sell_mean_price=row['sell_mean_price']\n",
    "        )\n",
    "        candles.append(candle)\n",
    "    \n",
    "    return candles\n",
    "\n",
    "\n",
    "def make_candles(trades, candle_duration_ms=100000):\n",
    "    # Преобразуем продолжительность в миллисекундах в наносекунды\n",
    "    candle_duration_ns = candle_duration_ms * 1e3\n",
    "    \n",
    "    # Создание сводной таблицы с необходимыми полями\n",
    "    candles_df = create_candles_df(trades, candle_duration_ns)\n",
    "    \n",
    "    # Создание объектов Candle из DataFrame\n",
    "    candles = create_candles_from_df(candles_df)\n",
    "    \n",
    "    return candles"
   ]
  },
  {
   "cell_type": "code",
   "execution_count": 5,
   "metadata": {},
   "outputs": [],
   "source": [
    "import matplotlib.pyplot as plt\n",
    "import matplotlib.dates as mdates\n",
    "import pandas as pd\n",
    "\n",
    "def plot_candles(candles):\n",
    "    fig, ax = plt.subplots(figsize=(12, 6))\n",
    "        \n",
    "    # Определяем ширину тела свечи и ширину тени пропорционально количеству свечей\n",
    "    candle_width = 3 / len(candles)  # Минимальная ширина тела свечи 0.4\n",
    "    shadow_width = 1.5\n",
    "\n",
    "    # Подготовка данных для отображения\n",
    "    times = [candle.time_start for candle in candles]\n",
    "    body_open_prices = [candle.body_open for candle in candles]\n",
    "    body_close_prices = [candle.body_close for candle in candles]\n",
    "    shadow_max_prices = [candle.shadow_max for candle in candles]\n",
    "    shadow_min_prices = [candle.shadow_min for candle in candles]\n",
    "\n",
    "    # Преобразуем времена в формат для matplotlib\n",
    "    time_labels = [pd.to_datetime(ts * 1000, unit='ns') for ts in times]\n",
    "    time_labels_num = mdates.date2num(time_labels)\n",
    "\n",
    "    for i in range(len(candles)):\n",
    "        candle = candles[i]\n",
    "        color = 'green' if candle.body_close > candle.body_open else 'red'\n",
    "        \n",
    "        # Рисуем тело свечи (прямоугольник)\n",
    "        ax.add_patch(plt.Rectangle(\n",
    "            (time_labels_num[i] - candle_width / 2, min(candle.body_open, candle.body_close)),  # Нижняя левая точка\n",
    "            candle_width,  # Ширина\n",
    "            abs(candle.body_close - candle.body_open),  # Высота (разница между ценой открытия и закрытия)\n",
    "            color=color\n",
    "        ))\n",
    "        \n",
    "        # Рисуем верхнюю тень (линия от max до закрытия или открытия)\n",
    "        ax.plot([time_labels_num[i], time_labels_num[i]], [candle.shadow_max, max(candle.body_open, candle.body_close)], \n",
    "                color=color, lw=shadow_width)\n",
    "        \n",
    "        # Рисуем нижнюю тень (линия от min до открытия или закрытия)\n",
    "        ax.plot([time_labels_num[i], time_labels_num[i]], [candle.shadow_min, min(candle.body_open, candle.body_close)], \n",
    "                color=color, lw=shadow_width)\n",
    "    \n",
    "    # Настройка осей\n",
    "    ax.set_xlim(min(time_labels_num), max(time_labels_num))\n",
    "    ax.set_xlabel('Time')\n",
    "    ax.set_ylabel('Price')\n",
    "    ax.set_title('Candlestick Chart')\n",
    "    \n",
    "    # Форматирование оси x для отображения времени\n",
    "    ax.xaxis.set_major_formatter(mdates.DateFormatter('%Y-%m-%d %H:%M:%S'))\n",
    "    \n",
    "    plt.grid(True)\n",
    "    plt.gcf().autofmt_xdate()  # Поворачиваем метки времени для лучшего отображения\n",
    "    plt.show()"
   ]
  },
  {
   "cell_type": "code",
   "execution_count": 6,
   "metadata": {},
   "outputs": [
    {
     "data": {
      "image/png": "[encoded data removed]",
      "text/plain": [
       "<Figure size 1200x600 with 1 Axes>"
      ]
     },
     "metadata": {},
     "output_type": "display_data"
    }
   ],
   "source": [
    "candles = make_candles(trades=trades, candle_duration_ms=1e7)\n",
    "plot_candles(candles)"
   ]
  },
  {
   "cell_type": "code",
   "execution_count": 7,
   "metadata": {},
   "outputs": [],
   "source": [
    "class BaseAction:\n",
    "    def __init__(self, instrument, amount):\n",
    "        self.instrument = instrument # Имя инструмента\n",
    "        self.amount = amount # Сколько надо проторговать\n",
    "    \n",
    "class Action:\n",
    "    def __init__(self, timestamp, base_actions):\n",
    "        self.timestamp = timestamp\n",
    "        self.base_actions = base_actions"
   ]
  },
  {
   "cell_type": "code",
   "execution_count": 8,
   "metadata": {},
   "outputs": [],
   "source": [
    "def binary_search_next_trade(trades, target_time):\n",
    "    # Предполагаем, что trades — это датафрейм, отсортированный по 'local_timestamp'\n",
    "    \n",
    "    left, right = 0, len(trades) - 1\n",
    "    result = None\n",
    "    \n",
    "    while left <= right:\n",
    "        mid = (left + right) // 2\n",
    "        mid_time = trades.iloc[mid]['local_timestamp']\n",
    "        \n",
    "        if mid_time > target_time:\n",
    "            result = trades.iloc[mid]  # Сохраняем возможный ответ\n",
    "            right = mid - 1  # Ищем дальше в левой части\n",
    "        else:\n",
    "            left = mid + 1  # Ищем дальше в правой части\n",
    "    \n",
    "    return left  # Возвращаем ближайшую следующую строку или None\n"
   ]
  },
  {
   "cell_type": "code",
   "execution_count": 9,
   "metadata": {},
   "outputs": [],
   "source": [
    "def perform_base_action(timestamp, base_action, bbo_data, duration):\n",
    "    \n",
    "    balance_delta = 0\n",
    "    instrument_delta = 0\n",
    "    \n",
    "    amount = base_action.amount\n",
    "\n",
    "    idx = binary_search_next_trade(bbo_data, timestamp)\n",
    "    if not idx:\n",
    "        idx = bbo_data.shape[0] - 1\n",
    "        \n",
    "    cur_timestamp = bbo_data.iloc[idx].local_timestamp\n",
    "\n",
    "    while cur_timestamp < timestamp + duration and abs(base_action.amount) > 0 and idx < bbo_data.shape[0]:\n",
    "        \n",
    "        row = bbo_data.iloc[idx]\n",
    "        cur_timestamp = row.local_timestamp\n",
    "                \n",
    "        if base_action.amount > 0: # Покупаем\n",
    "            amount = min(row.ask_amount, base_action.amount)\n",
    "            bbo_data.iloc[idx].ask_amount -= amount\n",
    "            \n",
    "        if base_action.amount < 0: # Покупаем\n",
    "            amount = max(-row.bid_amount, base_action.amount)\n",
    "            bbo_data.iloc[idx].bid_amount += amount\n",
    "            \n",
    "        base_action.amount -= amount\n",
    "        \n",
    "        instrument_delta += amount\n",
    "        balance_delta -= row.ask_price * amount\n",
    "        \n",
    "        idx += 1\n",
    "\n",
    "    \n",
    "    return {'instrument_delta': instrument_delta, 'balance_delta': balance_delta} \n",
    "        "
   ]
  },
  {
   "cell_type": "code",
   "execution_count": 10,
   "metadata": {},
   "outputs": [],
   "source": [
    "class Simulate:\n",
    "    def __init__(self, actions, action_duration, verbose=False):\n",
    "        \"\"\"action_duration: ms\"\"\"\n",
    "        self.actions = actions\n",
    "        self.pnl = None\n",
    "        self.traded_volume = 0\n",
    "        \n",
    "        self.verbose = verbose\n",
    "        \n",
    "        self.portfolio = {'DOGE': 0, 'PEPE': 0}\n",
    "        \n",
    "        self.balance = 0\n",
    "        self.action_duration = action_duration * 1000 # первели в микросекунды\n",
    "        \n",
    "        \n",
    "    def backtest(self, bbo_data):\n",
    "        self.actions.sort(key = lambda action: action.timestamp)\n",
    "        \n",
    "        for action in self.actions:\n",
    "            timestamp = action.timestamp\n",
    "            for base_action in action.base_actions:\n",
    "                instrument = base_action.instrument\n",
    "                \n",
    "                result = perform_base_action(timestamp=action.timestamp,\n",
    "                                             base_action=base_action,\n",
    "                                             bbo_data=bbo_data[instrument],\n",
    "                                             duration = self.action_duration)\n",
    "                \n",
    "                balance_delta = result['balance_delta']\n",
    "                instrument_delta = result['instrument_delta']\n",
    "                \n",
    "                self.balance += result['balance_delta']\n",
    "                self.portfolio[instrument] += result['instrument_delta']\n",
    "                \n",
    "                if self.verbose:\n",
    "                    print(f'Performed action: {instrument_delta} {instrument}')\n",
    "                \n",
    "        return {'balance': self.balance, 'open_positions': self.portfolio}"
   ]
  },
  {
   "cell_type": "code",
   "execution_count": 11,
   "metadata": {},
   "outputs": [
    {
     "data": {
      "text/plain": [
       "{'DOGE':           local_timestamp  ask_amount  ask_price  bid_price  bid_amount\n",
       " 0        1723248002491221      6702.0    0.10379    0.10378    168898.0\n",
       " 1        1723248002964927     45492.0    0.10379    0.10378    151776.0\n",
       " 2        1723248003458198    102183.0    0.10379    0.10378    160925.0\n",
       " 3        1723248003968033     19688.0    0.10379    0.10378    178972.0\n",
       " 4        1723248004498136     53459.0    0.10379    0.10378    172663.0\n",
       " ...                   ...         ...        ...        ...         ...\n",
       " 1192269  1723852797832565     55085.0    0.10029    0.10028    101565.0\n",
       " 1192270  1723852798435024     55154.0    0.10029    0.10028    101669.0\n",
       " 1192271  1723852798949420     59061.0    0.10029    0.10028     93451.0\n",
       " 1192272  1723852799297765     81285.0    0.10029    0.10028      6626.0\n",
       " 1192273  1723852799906680    131770.0    0.10029    0.10028      2996.0\n",
       " \n",
       " [1192274 rows x 5 columns],\n",
       " 'PEPE':           local_timestamp  ask_amount  ask_price  bid_price  bid_amount\n",
       " 0        1723248002488866     24612.0   0.008520   0.008519    362487.0\n",
       " 1        1723248002961182    296530.0   0.008521   0.008521    463420.0\n",
       " 2        1723248003461469    292506.0   0.008521   0.008521    469177.0\n",
       " 3        1723248003727165      1714.0   0.008521   0.008521    491355.0\n",
       " 4        1723248004496448     92172.0   0.008521   0.008521    168101.0\n",
       " ...                   ...         ...        ...        ...         ...\n",
       " 1191631  1723852797956616    282851.0   0.007177   0.007177    261070.0\n",
       " 1191632  1723852798468978    297935.0   0.007177   0.007177    261070.0\n",
       " 1191633  1723852798654066    336969.0   0.007177   0.007177    248302.0\n",
       " 1191634  1723852799495844    261722.0   0.007175   0.007175    298718.0\n",
       " 1191635  1723852799575923    259422.0   0.007175   0.007175    298718.0\n",
       " \n",
       " [1191636 rows x 5 columns]}"
      ]
     },
     "execution_count": 11,
     "metadata": {},
     "output_type": "execute_result"
    }
   ],
   "source": [
    "bbo_doge = pd.read_csv('md_sim/bbo_dogeusdt.csv')\n",
    "bbo_pepe = pd.read_csv('md_sim/bbo_1000pepeusdt.csv')\n",
    "\n",
    "bbo_data = {'DOGE': bbo_doge, 'PEPE': bbo_pepe}\n",
    "\n",
    "bbo_data['DOGE'].sort_values(by='local_timestamp', inplace=True)\n",
    "bbo_data['PEPE'].sort_values(by='local_timestamp', inplace=True)\n",
    "\n",
    "bbo_data"
   ]
  },
  {
   "cell_type": "markdown",
   "metadata": {},
   "source": [
    "Самая базовая страта"
   ]
  },
  {
   "cell_type": "code",
   "execution_count": 12,
   "metadata": {},
   "outputs": [],
   "source": [
    "import warnings\n",
    "warnings.filterwarnings('ignore')"
   ]
  },
  {
   "cell_type": "code",
   "execution_count": 13,
   "metadata": {},
   "outputs": [
    {
     "name": "stdout",
     "output_type": "stream",
     "text": [
      "Performed action: -10000 DOGE\n",
      "Performed action: 10000 DOGE\n"
     ]
    },
    {
     "data": {
      "text/plain": [
       "{'balance': 34.99999999999977, 'open_positions': {'DOGE': 0, 'PEPE': 0}}"
      ]
     },
     "execution_count": 13,
     "metadata": {},
     "output_type": "execute_result"
    }
   ],
   "source": [
    "action1 = Action(timestamp=1723248002491221,\n",
    "                 base_actions=[BaseAction(instrument='DOGE', amount=-10000)])\n",
    "\n",
    "action2 = Action(timestamp=1723852797832565,\n",
    "                  base_actions=[BaseAction(instrument='DOGE', amount=10000)])\n",
    "\n",
    "actions = [action1, action2]\n",
    "\n",
    "simulation = Simulate(actions=actions, action_duration=1000, verbose=True) # 1000мс длится действие\n",
    "\n",
    "simulation.backtest(bbo_data=bbo_data)"
   ]
  },
  {
   "cell_type": "markdown",
   "metadata": {},
   "source": [
    "Мы открытыли короткую позицию вначале и закрыли её через несколько дней, итоговая прибыль 34.99 долларов. Все открытые позиции были закрыты."
   ]
  },
  {
   "cell_type": "markdown",
   "metadata": {},
   "source": [
    "Теперь посмотрим на то, как работает случайная стратегия"
   ]
  },
  {
   "cell_type": "code",
   "execution_count": 14,
   "metadata": {},
   "outputs": [
    {
     "name": "stdout",
     "output_type": "stream",
     "text": [
      "Performed action: -272 PEPE\n",
      "Performed action: 674 DOGE\n",
      "Performed action: -915.0 DOGE\n",
      "Performed action: 807 PEPE\n",
      "Performed action: -917 DOGE\n",
      "Performed action: -730 PEPE\n",
      "Performed action: -150 PEPE\n",
      "Performed action: 695 DOGE\n",
      "Performed action: 654 PEPE\n",
      "Performed action: 491 DOGE\n",
      "Performed action: 347 PEPE\n",
      "Performed action: -623 PEPE\n",
      "Performed action: -299 PEPE\n",
      "Performed action: 835 PEPE\n",
      "Performed action: -274 DOGE\n",
      "Performed action: 84 DOGE\n",
      "Performed action: -103 PEPE\n",
      "Performed action: 176 PEPE\n",
      "Performed action: 365 PEPE\n",
      "Performed action: 353 DOGE\n",
      "Performed action: -654 PEPE\n",
      "Performed action: 168 PEPE\n",
      "Performed action: 695 PEPE\n",
      "Performed action: -927 DOGE\n",
      "Performed action: -203 PEPE\n",
      "Performed action: 940 DOGE\n",
      "Performed action: -572 DOGE\n",
      "Performed action: -660 PEPE\n",
      "Performed action: 201 DOGE\n",
      "Performed action: -355 DOGE\n",
      "Performed action: 888 DOGE\n",
      "Performed action: 948 DOGE\n",
      "Performed action: -134 DOGE\n",
      "Performed action: 580 PEPE\n",
      "Performed action: -391 DOGE\n",
      "Performed action: -21 DOGE\n",
      "Performed action: -456 DOGE\n",
      "Performed action: 785 DOGE\n",
      "Performed action: -21 PEPE\n",
      "Performed action: -893 DOGE\n",
      "Performed action: -888 DOGE\n",
      "Performed action: 865 PEPE\n",
      "Performed action: 457 DOGE\n",
      "Performed action: 569 PEPE\n",
      "Performed action: -797 PEPE\n",
      "Performed action: -502 DOGE\n",
      "Performed action: -682 DOGE\n",
      "Performed action: -272 PEPE\n",
      "Performed action: -179 PEPE\n",
      "Performed action: -242 DOGE\n",
      "Performed action: 883 DOGE\n",
      "Performed action: -23 PEPE\n",
      "Performed action: -939 PEPE\n",
      "Performed action: 705 DOGE\n",
      "Performed action: 33 PEPE\n",
      "Performed action: 739 PEPE\n",
      "Performed action: -952 PEPE\n",
      "Performed action: -499 DOGE\n",
      "Performed action: 507 PEPE\n",
      "Performed action: -401 PEPE\n",
      "Performed action: -699 PEPE\n",
      "Performed action: -567 PEPE\n",
      "Performed action: 464 DOGE\n",
      "Performed action: 781 PEPE\n",
      "Performed action: -481 DOGE\n",
      "Performed action: -813 PEPE\n",
      "Performed action: -65 PEPE\n",
      "Performed action: -830 PEPE\n",
      "Performed action: -288 PEPE\n",
      "Performed action: 853 PEPE\n",
      "Performed action: -822 DOGE\n",
      "Performed action: 641 DOGE\n",
      "Performed action: -416 DOGE\n",
      "Performed action: 906 PEPE\n",
      "Performed action: 626 PEPE\n",
      "Performed action: -121 PEPE\n",
      "Performed action: 516 DOGE\n",
      "Performed action: -254 PEPE\n",
      "Performed action: 845 PEPE\n",
      "Performed action: -144 PEPE\n",
      "Performed action: 582 PEPE\n",
      "Performed action: -838 PEPE\n",
      "Performed action: -285 PEPE\n",
      "Performed action: 97 PEPE\n",
      "Performed action: 524 PEPE\n",
      "Performed action: -882 PEPE\n",
      "Performed action: 567 DOGE\n",
      "Performed action: -304 PEPE\n",
      "Performed action: -297 DOGE\n",
      "Performed action: -684 DOGE\n",
      "Performed action: -501 PEPE\n",
      "Performed action: 130 PEPE\n",
      "Performed action: 960 PEPE\n",
      "Performed action: -992 PEPE\n",
      "Performed action: -640 PEPE\n",
      "Performed action: 151 DOGE\n",
      "Performed action: 237 DOGE\n",
      "Performed action: 52 PEPE\n",
      "Performed action: -131 DOGE\n",
      "Performed action: -248 PEPE\n",
      "Performed action: 819 DOGE\n",
      "Performed action: 2053 PEPE\n"
     ]
    },
    {
     "data": {
      "text/plain": [
       "{'balance': 7.930872199999987, 'open_positions': {'DOGE': 0.0, 'PEPE': 0}}"
      ]
     },
     "execution_count": 14,
     "metadata": {},
     "output_type": "execute_result"
    }
   ],
   "source": [
    "import random\n",
    "\n",
    "\n",
    "def generate_random_actions(time_start=1723248002491221, time_end=1723852797832565, N=100):\n",
    "    \"\"\"Функция, генерирующая случайную последовательность из N действий в заданном промежутке времени\"\"\"\n",
    "    time_stop = time_end - 1e3 * 1e3 * 60 # Перестанем генерировать случайные действия за минуту до конца, чтобы закрыть открытые позиции\n",
    "    \n",
    "    dt = (time_stop - time_start) / N\n",
    "    \n",
    "    instruments = ['DOGE', 'PEPE']\n",
    "    total = dict(zip(instruments, [0] * len(instruments))) # Здесь будем хранить открытые позиции\n",
    "    \n",
    "    actions = []\n",
    "    \n",
    "    for i in range(N):\n",
    "        amount = random.randint(-1000, 1000)\n",
    "        instrument = instruments[random.randint(0, 1)]\n",
    "        actions.append(\n",
    "            Action(timestamp=time_start + i * dt,\n",
    "                    base_actions=[BaseAction(instrument=instrument, amount=amount)])\n",
    "        )\n",
    "        \n",
    "        total[instrument] += amount\n",
    "        \n",
    "    for instrument in instruments:\n",
    "        actions.append(\n",
    "            Action(timestamp=time_stop,\n",
    "                        base_actions=[BaseAction(instrument=instrument, amount=-total[instrument])]))\n",
    "    \n",
    "    return actions\n",
    "\n",
    "actions = generate_random_actions()\n",
    "simulation = Simulate(actions=actions, action_duration=1000, verbose=True) # 1000мс длится действие\n",
    "\n",
    "simulation.backtest(bbo_data=bbo_data)"
   ]
  },
  {
   "cell_type": "markdown",
   "metadata": {},
   "source": [
    "Запустим случайную стратегию несколько раз, посмотрим на её среднюю доходность"
   ]
  },
  {
   "cell_type": "code",
   "execution_count": 15,
   "metadata": {},
   "outputs": [
    {
     "name": "stdout",
     "output_type": "stream",
     "text": [
      "1 run of random startegy yielded -17.0819 $\n",
      "2 run of random startegy yielded 17.8318 $\n",
      "3 run of random startegy yielded -9.8245 $\n",
      "4 run of random startegy yielded -36.1906 $\n",
      "5 run of random startegy yielded -25.8215 $\n",
      "6 run of random startegy yielded -23.2295 $\n",
      "7 run of random startegy yielded 17.2917 $\n",
      "8 run of random startegy yielded -22.8179 $\n",
      "9 run of random startegy yielded -5.9732 $\n",
      "10 run of random startegy yielded -3.9157 $\n",
      "Mean yield of random strategy: -10.973 $\n"
     ]
    }
   ],
   "source": [
    "yield_random = 0\n",
    "\n",
    "t = 10\n",
    "for i in range(t):\n",
    "    actions = generate_random_actions()\n",
    "    simulation = Simulate(actions=actions, action_duration=1000, verbose=False) # 1000мс длится действие\n",
    "\n",
    "    result = simulation.backtest(bbo_data=bbo_data)\n",
    "    \n",
    "    if result['open_positions'] == {'DOGE': 0, 'PEPE': 0.0}:\n",
    "        result_balance = result['balance']\n",
    "        print(f'{i+1} run of random startegy yielded {result_balance:.4f} $')\n",
    "        yield_random += result['balance']\n",
    "        \n",
    "print(f'Mean yield of random strategy: {yield_random / t:.3f} $')"
   ]
  },
  {
   "cell_type": "markdown",
   "metadata": {},
   "source": [
    "Видим, что в среднем доходность околонулевая, это соотносится со здравым смыслом"
   ]
  },
  {
   "cell_type": "code",
   "execution_count": null,
   "metadata": {},
   "outputs": [],
   "source": []
  },
  {
   "cell_type": "code",
   "execution_count": null,
   "metadata": {},
   "outputs": [],
   "source": []
  },
  {
   "cell_type": "code",
   "execution_count": 16,
   "metadata": {},
   "outputs": [],
   "source": [
    "import random\n",
    "\n",
    "import pandas as pd\n",
    "from util import Action, BaseAction, read_bbo\n",
    "from simulate import Simulate  \n",
    "\n",
    "from metrics import TradingMetrics\n",
    "from candles import make_candles, Candle "
   ]
  },
  {
   "cell_type": "code",
   "execution_count": 17,
   "metadata": {},
   "outputs": [],
   "source": [
    "def generate_cheating_actions(candles, time_start=None, time_end=None, N=100):\n",
    "    actions = []\n",
    "    instruments = candles.keys()\n",
    "    \n",
    "    CONST_AMOUNT = 100\n",
    "    for instrument in instruments:\n",
    "        for candle in candles[instrument]:\n",
    "            if candle.time_end < time_end - 1000*1000*60:\n",
    "                if candle.body_open < candle.body_close:\n",
    "                    sign = 1\n",
    "                    actions.append(Action(timestamp=candle.time_start,\n",
    "                        base_actions=[BaseAction(instrument=instrument, amount=CONST_AMOUNT * sign)]))\n",
    "                    actions.append(Action(timestamp=candle.time_end,\n",
    "                        base_actions=[BaseAction(instrument=instrument, amount=CONST_AMOUNT * -sign)]))\n",
    "    return actions"
   ]
  },
  {
   "cell_type": "code",
   "execution_count": 62,
   "metadata": {},
   "outputs": [],
   "source": [
    "bbo_data = read_bbo('md_sim/bbo_dogeusdt.csv')\n",
    "    \n",
    "time_start = bbo_data['DOGE']['local_timestamp'].min()\n",
    "time_end = bbo_data['DOGE']['local_timestamp'].max()\n",
    "\n",
    "path_doge = 'md_sim/trades_dogeusdt.csv'\n",
    "path_pepe = 'md_sim/trades_1000pepeusdt.csv'\n",
    "\n",
    "trades_doge = pd.read_csv(path_doge)\n",
    "trades_pepe = pd.read_csv(path_pepe)\n",
    "\n",
    "candles_doge = make_candles(trades=trades_doge, candle_duration_ms=1000*60*60*24) # Суточные свечки\n",
    "candles_pepe = make_candles(trades=trades_pepe, candle_duration_ms=1000*60*60*24) # Суточные свечки\n",
    "candles = {'DOGE': candles_doge, 'PEPE': candles_pepe}"
   ]
  },
  {
   "cell_type": "code",
   "execution_count": 64,
   "metadata": {},
   "outputs": [
    {
     "data": {
      "image/png": "[encoded data removed]",
      "text/plain": [
       "<Figure size 1200x600 with 1 Axes>"
      ]
     },
     "metadata": {},
     "output_type": "display_data"
    }
   ],
   "source": [
    "plot_candles(candles=candles['DOGE'])"
   ]
  },
  {
   "cell_type": "code",
   "execution_count": 63,
   "metadata": {},
   "outputs": [
    {
     "data": {
      "image/png": "[encoded data removed]",
      "text/plain": [
       "<Figure size 1200x600 with 1 Axes>"
      ]
     },
     "metadata": {},
     "output_type": "display_data"
    }
   ],
   "source": [
    "plot_candles(candles=candles['PEPE'])"
   ]
  },
  {
   "cell_type": "code",
   "execution_count": 84,
   "metadata": {},
   "outputs": [
    {
     "name": "stdout",
     "output_type": "stream",
     "text": [
      "Sharpe Ratio: {'DOGE': 1.9331844037752863, 'PEPE': 1.6046409332106697}\n",
      "Shortino Ratio: {'DOGE': nan, 'PEPE': nan}\n",
      "Traded Volume: 1119.5014\n",
      "Total PnL: 21.612399999999965 {'DOGE': 0, 'PEPE': 0}\n"
     ]
    }
   ],
   "source": [
    "actions = []\n",
    "instruments = candles.keys()\n",
    "CONST_AMOUNT = 1000\n",
    "for instrument in instruments:\n",
    "    for candle in candles[instrument]:\n",
    "        if candle.time_end < time_end - 1000*1000*60 and candle.time_start > time_start + 1000*1000*60:\n",
    "            if candle.body_open < candle.body_close or candle.body_open > candle.body_close:\n",
    "                sign = (-1) ** (candle.body_open > candle.body_close)\n",
    "                actions.append(Action(timestamp=candle.time_start,\n",
    "                    base_actions=[BaseAction(instrument=instrument, amount=CONST_AMOUNT * sign)]))\n",
    "                actions.append(Action(timestamp=candle.time_end,\n",
    "                    base_actions=[BaseAction(instrument=instrument, amount=CONST_AMOUNT * -sign)]))\n",
    "                \n",
    "                \n",
    "                \n",
    "simulation = Simulate(actions=actions, action_duration=10000)\n",
    "result = simulation.backtest(bbo_data=bbo_data)\n",
    "\n",
    "history = result['history']\n",
    "tm = TradingMetrics(history)\n",
    "\n",
    "# Рассчет метрик\n",
    "print(\"Sharpe Ratio:\", tm.calculate_sharpe(market_data=bbo_data))\n",
    "print(\"Sortino Ratio:\", tm.calculate_shortino(market_data=bbo_data))\n",
    "print(\"Traded Volume:\", tm.calculate_traded_volume())\n",
    "print(\"Total PnL:\", tm.calculate_total_pnl(), result['open_positions'])"
   ]
  },
  {
   "cell_type": "code",
   "execution_count": 73,
   "metadata": {},
   "outputs": [
    {
     "name": "stdout",
     "output_type": "stream",
     "text": [
      "0\n",
      "0\n",
      "105.12\n",
      "-8.427999999999999\n",
      "8.4291\n",
      "105.13\n",
      "-7.718100000000001\n",
      "-100.54\n",
      "-100.53\n",
      "-7.7179\n",
      "8.2246\n",
      "107.84\n",
      "107.84\n",
      "8.2247\n",
      "-106.31\n",
      "-8.1801\n",
      "8.182699999999999\n",
      "106.33\n",
      "-102.36000000000001\n",
      "-8.006599999999999\n",
      "8.0058\n",
      "102.35\n",
      "-7.4418\n",
      "-100.14\n"
     ]
    }
   ],
   "source": [
    "for trade in history.values():\n",
    "    print(trade['pnl_delta'])"
   ]
  },
  {
   "cell_type": "code",
   "execution_count": null,
   "metadata": {},
   "outputs": [],
   "source": []
  }
 ],
 "metadata": {
  "kernelspec": {
   "display_name": "Python 3",
   "language": "python",
   "name": "python3"
  },
  "language_info": {
   "codemirror_mode": {
    "name": "ipython",
    "version": 3
   },
   "file_extension": ".py",
   "mimetype": "text/x-python",
   "name": "python",
   "nbconvert_exporter": "python",
   "pygments_lexer": "ipython3",
   "version": "3.10.12"
  }
 },
 "nbformat": 4,
 "nbformat_minor": 2
}
